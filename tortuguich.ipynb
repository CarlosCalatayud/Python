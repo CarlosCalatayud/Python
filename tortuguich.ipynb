{
 "cells": [
  {
   "cell_type": "code",
   "execution_count": 9,
   "metadata": {
    "collapsed": true
   },
   "outputs": [],
   "source": [
    "# Funciones auxiliares\n",
    "from math import pi,sin,cos,sqrt\n",
    "from turtle import forward, color, width\n",
    "from turtle import rt as rotate\n",
    "import turtle\n",
    "\n",
    "def start():\n",
    "    turtle.setup()\n",
    "    turtle.speed(0)\n",
    "    clear()\n",
    "\n",
    "def clear():\n",
    "    turtle.clearscreen()\n",
    "    turtle.hideturtle()\n",
    "    turtle.radians()\n",
    "    turtle.tracer(0,0)\n",
    "\n",
    "def home():\n",
    "    turtle.penup()\n",
    "    turtle.home()\n",
    "    turtle.pendown()\n",
    "\n",
    "def goto(x,y):\n",
    "    turtle.penup()\n",
    "    turtle.goto(x,y)\n",
    "    turtle.pendown()\n",
    "\n",
    "def skip(units):\n",
    "    turtle.penup()\n",
    "    turtle.forward(units)\n",
    "    turtle.pendown()\n",
    "\n",
    "def show():\n",
    "    turtle.update()\n",
    "    turtle.done()"
   ]
  },
  {
   "cell_type": "code",
   "execution_count": 10,
   "metadata": {
    "collapsed": true
   },
   "outputs": [],
   "source": [
    "def salir_del_labertinto():\n",
    "    ruta = 'wdaadwdwdwwwaadaaddwwdwwadwawwawddwaadaadwwawadwaddwdwadaaddwaddaddwaawwwdwwwa'\n",
    "    for paso in ruta:\n",
    "        if paso == 'a': rotate(-pi/2)\n",
    "        if paso == 'd': rotate(pi/2)\n",
    "        forward(50)\n",
    "\n"
   ]
  },
  {
   "cell_type": "code",
   "execution_count": 11,
   "metadata": {
    "collapsed": true
   },
   "outputs": [],
   "source": [
    "#salir_del_labertinto()"
   ]
  },
  {
   "cell_type": "code",
   "execution_count": 12,
   "metadata": {
    "collapsed": true
   },
   "outputs": [],
   "source": [
    "def D_star(R):\n",
    "    rotate(-pi/2)\n",
    "    skip(R)\n",
    "    rotate(9*pi/10)\n",
    "    forward(2*R*cos(pi/10))\n",
    "    for i in range(5):\n",
    "        rotate(4*pi/5)\n",
    "        forward(2*R*cos(pi/10))\n",
    "\n",
    "\n",
    "def cap_america(R):\n",
    "    est = 2*R/5\n",
    "    sep_circ = R/5\n",
    "    poligono_rep(25,R,sep_circ)\n",
    "    D_star(est)\n"
   ]
  },
  {
   "cell_type": "code",
   "execution_count": 13,
   "metadata": {},
   "outputs": [],
   "source": [
    "#cap_america(150)"
   ]
  },
  {
   "cell_type": "code",
   "execution_count": 14,
   "metadata": {
    "collapsed": true
   },
   "outputs": [],
   "source": [
    "def cuadricula(l,n,d):\n",
    "    for i in range(2*n+1):\n",
    "        goto(-l/2,(l/2)-i*d)\n",
    "        forward(l)\n",
    "    rotate(-pi/2)\n",
    "    for i in range(2*n+1):\n",
    "        goto((l/2)-i*d,-(l/2))\n",
    "        forward(l)\n",
    "    home()\n",
    "def grid(R,d):\n",
    "    goto(-R,R)\n",
    "    cuadricula(2*R,R//d,d)\n"
   ]
  },
  {
   "cell_type": "code",
   "execution_count": 15,
   "metadata": {
    "collapsed": true
   },
   "outputs": [],
   "source": [
    "#grid(100,20)"
   ]
  },
  {
   "cell_type": "code",
   "execution_count": 16,
   "metadata": {
    "collapsed": true
   },
   "outputs": [],
   "source": [
    "def t_equi(R):\n",
    "    rotate(pi/3)\n",
    "    forward(2*R*cos(pi/6))\n",
    "    rotate(2*pi / 3)\n",
    "    forward(2*R*cos(pi/6))\n",
    "    rotate(2*pi / 3)\n",
    "    forward(2*R*cos(pi/6))\n",
    "def poligono(n,R):\n",
    "    rotate(-pi/2)\n",
    "    skip(R)\n",
    "    rotate(pi/2)\n",
    "\n",
    "    if n==3:\n",
    "        t_equi(R)\n",
    "    else:\n",
    "        ang_int=(n-2)*pi/n\n",
    "        rotate((pi/2)-ang_int/2)\n",
    "        for i in range(n):\n",
    "                forward(2*R*sin(pi/(n)))\n",
    "                rotate(pi-ang_int)\n",
    "    \n",
    "def poligono_rep(n,R,d):\n",
    "    for i in range(4):\n",
    "        poligono(n,R-d*i)\n",
    "        if n==3:\n",
    "            rotate(5*pi/6)\n",
    "            skip(R - d * i)\n",
    "            rotate(-pi / 2)\n",
    "        else:\n",
    "            rotate((n-2)*pi/(2*n))\n",
    "            skip(R-d*i)\n",
    "            rotate(-pi/2)\n",
    "def roseton(R):\n",
    "    poligono_rep(3,R,R/4)\n",
    "    poligono_rep(6,R,R/4)\n",
    "\n",
    "    \n",
    "def estrella(R):\n",
    "    goto(2*R,0)\n",
    "    rotate(pi/2)\n",
    "    for i in range(1,6):\n",
    "        if i%2!=0:\n",
    "            roseton(R)\n",
    "            rotate(pi/6)\n",
    "            skip(2*R)\n",
    "            rotate(-7*pi/6)\n",
    "        else:    \n",
    "            roseton(R)\n",
    "            rotate(-pi/2)\n",
    "            skip(2*R)\n",
    "            rotate(pi/6)\n",
    "    roseton(R)\n",
    "\n",
    "    \n",
    "def corona(R):\n",
    "    #########2 arriba\n",
    "    rotate(-pi/2)\n",
    "    goto(0,R)\n",
    "    rotate(pi/3)\n",
    "    skip(R)\n",
    "    rotate(pi/6)\n",
    "    roseton(R)\n",
    "    home()\n",
    "    \n",
    "    rotate(-pi/2)\n",
    "    goto(0,R)\n",
    "    rotate(-pi/3)\n",
    "    skip(R)\n",
    "    rotate(pi/6)\n",
    "    roseton(R)\n",
    "    home()\n",
    "    #########2abajo\n",
    "    rotate(-3*pi/2)\n",
    "    goto(0,-2*R)\n",
    "    rotate(pi/3+pi)\n",
    "    skip(R)\n",
    "    rotate(pi/6)\n",
    "    roseton(R)\n",
    "    home()\n",
    "    \n",
    "    rotate(-3*pi/2)\n",
    "    goto(0,-2*R)\n",
    "    rotate(-pi/3+pi)\n",
    "    skip(R)\n",
    "    rotate(pi/6)\n",
    "    roseton(R)\n",
    "    home()\n",
    "    \n",
    "    skip(2*R*cos(pi/6))\n",
    "    roseton(R)\n",
    "    home()\n",
    "    \n",
    "    skip(-2*R*cos(pi/6))\n",
    "    roseton(R)\n"
   ]
  },
  {
   "cell_type": "code",
   "execution_count": 31,
   "metadata": {},
   "outputs": [],
   "source": [
    "start()\n",
    "grid(250,50)\n",
    "corona(150)\n",
    "show()"
   ]
  },
  {
   "cell_type": "code",
   "execution_count": null,
   "metadata": {
    "collapsed": true
   },
   "outputs": [],
   "source": []
  },
  {
   "cell_type": "code",
   "execution_count": null,
   "metadata": {
    "collapsed": true
   },
   "outputs": [],
   "source": []
  }
 ],
 "metadata": {
  "kernelspec": {
   "display_name": "Python 3",
   "language": "python",
   "name": "python3"
  },
  "language_info": {
   "codemirror_mode": {
    "name": "ipython",
    "version": 3
   },
   "file_extension": ".py",
   "mimetype": "text/x-python",
   "name": "python",
   "nbconvert_exporter": "python",
   "pygments_lexer": "ipython3",
   "version": "3.6.1"
  }
 },
 "nbformat": 4,
 "nbformat_minor": 2
}
