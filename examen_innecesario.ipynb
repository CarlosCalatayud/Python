{
 "cells": [
  {
   "cell_type": "code",
   "execution_count": 119,
   "metadata": {
    "collapsed": true
   },
   "outputs": [],
   "source": [
    "from math import cos, sin, pi\n",
    "\n",
    "\n",
    "\n",
    "\n",
    "def RX(a):\n",
    "    return (1,0,0,0,0,cos(a),-sin(a),0,0,sin(a),cos(a),0,0,0,0,1)\n",
    "def RY(a):\n",
    "    return (cos(a),0,sin(a),0,0,1,0,0,-sin(a),0,cos(a),0,0,0,0,1)\n",
    "def RZ(a):\n",
    "    return (cos(a),-sin(a),0,0,sin(a),cos(a),0,0,0,0,1,0,0,0,0,1)\n",
    "\n",
    "\n",
    "def R(eje,angulo):\n",
    "    if eje == 'X': return RX(angulo)\n",
    "    if eje == 'Y': return RY(angulo)\n",
    "    if eje == 'Z': return RZ(angulo)\n",
    "def T(eje,d):\n",
    "    if eje == 'X': return (1,0,0,d,0,1,0,0,0,0,1,0,0,0,0,1)\n",
    "    if eje == 'Y': return (1,0,0,0,0,1,0,d,0,0,1,0,0,0,0,1)\n",
    "    if eje == 'Z': return (1,0,0,0,0,1,0,0,0,0,1,d,0,0,0,1)\n",
    "    \n",
    "def trans(s):\n",
    "    M = (1,0,0,0,0,1,0,0,0,0,1,0,0,0,0,1)\n",
    "    for i in range(len(s)):\n",
    "        if s[i] == 'R': M = multi(M,R(s[i+1],obten_num(s[i+3:])))\n",
    "        if s[i] == 'T': M = multi(M,T(s[i+1],obten_num(s[i+3:])))\n",
    "    return M\n",
    "            \n",
    "def multi(M,A):\n",
    "    M1 = [M[:4],M[4:8],M[8:12],M[12:]]\n",
    "    A1 = [A[:4],A[4:8],A[8:12],A[12:]]\n",
    "    T = []\n",
    "    for k in range(4):\n",
    "        for i in range(4):\n",
    "            s = 0\n",
    "            for j in range(4):\n",
    "                s += M1[k][j]*A1[j][i]\n",
    "            T.append(s)\n",
    "    return tuple(T)\n",
    "\n",
    "def obten_num(s):\n",
    "    num = ''\n",
    "    for i in s:\n",
    "        if i == ' ': return float(num)\n",
    "        num += i\n",
    "    return float(num)"
   ]
  },
  {
   "cell_type": "code",
   "execution_count": 120,
   "metadata": {},
   "outputs": [
    {
     "data": {
      "text/plain": [
       "(1, 0, 0, 0, 0, 1, 0, 30, 0, 0, 1, 0, 0, 0, 0, 1)"
      ]
     },
     "execution_count": 120,
     "metadata": {},
     "output_type": "execute_result"
    }
   ],
   "source": [
    "multi((1,0,0,0,0,1,0,15,0,0,1,0,0,0,0,1),(1,0,0,0,0,1,0,15,0,0,1,0,0,0,0,1))"
   ]
  },
  {
   "cell_type": "code",
   "execution_count": 121,
   "metadata": {},
   "outputs": [
    {
     "data": {
      "text/plain": [
       "(0.26749882862458735,\n",
       " 0.0,\n",
       " 0.963558185417193,\n",
       " 0.2023472189376105,\n",
       " 0.23838811004431726,\n",
       " 0.9689124217106447,\n",
       " -0.06618026929767003,\n",
       " -0.013897856552510706,\n",
       " -0.9336034948916869,\n",
       " 0.24740395925452294,\n",
       " 0.25918293784740964,\n",
       " 0.054428416947956026,\n",
       " 0.0,\n",
       " 0.0,\n",
       " 0.0,\n",
       " 1.0)"
      ]
     },
     "execution_count": 121,
     "metadata": {},
     "output_type": "execute_result"
    }
   ],
   "source": [
    "trans('RX 0.25 RY 1.3 TZ 0.21')"
   ]
  },
  {
   "cell_type": "code",
   "execution_count": null,
   "metadata": {
    "collapsed": true
   },
   "outputs": [],
   "source": []
  }
 ],
 "metadata": {
  "kernelspec": {
   "display_name": "Python 3",
   "language": "python",
   "name": "python3"
  },
  "language_info": {
   "codemirror_mode": {
    "name": "ipython",
    "version": 3
   },
   "file_extension": ".py",
   "mimetype": "text/x-python",
   "name": "python",
   "nbconvert_exporter": "python",
   "pygments_lexer": "ipython3",
   "version": "3.6.1"
  }
 },
 "nbformat": 4,
 "nbformat_minor": 2
}
