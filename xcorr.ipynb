{
 "cells": [
  {
   "cell_type": "code",
   "execution_count": 107,
   "metadata": {
    "collapsed": true
   },
   "outputs": [],
   "source": [
    "def desplaza(r,N):\n",
    "    return tuple(r[N+1:] + r[:N]), range(-N+1,N)\n",
    "    \n",
    "    \n",
    "def xcorr(x,y):\n",
    "    N      = max(len(x),len(y))\n",
    "    r_temp = [0 for i in range(2*N)]\n",
    "    r      = [0 for i in range(2*N)]\n",
    "    zeros  = [0 for i in range(2*N)]\n",
    "    x     += zeros\n",
    "    y     += zeros\n",
    "    for m in range(-N,N):\n",
    "        for n in range(N-m):\n",
    "            r_temp[n] = x[n+m]*y[n]\n",
    "        r[m]   = sum(r_temp)\n",
    "        r_temp = [0 for i in range(2*N)]\n",
    "    return desplaza(r,N)"
   ]
  },
  {
   "cell_type": "code",
   "execution_count": 108,
   "metadata": {},
   "outputs": [
    {
     "data": {
      "text/plain": [
       "((0.1749,\n",
       "  0.355116,\n",
       "  0.54619744,\n",
       "  0.7539058496,\n",
       "  0.9845809136639999,\n",
       "  1.2452479674777601,\n",
       "  1.5439082926813184,\n",
       "  1.8895829658523073,\n",
       "  2.2928496913159377,\n",
       "  2.7659937407053876,\n",
       "  3.323434742192526,\n",
       "  2.8647851834417213,\n",
       "  2.493519554091046,\n",
       "  2.1982564254364783,\n",
       "  1.969935397366642,\n",
       "  1.8016457337879794,\n",
       "  1.5026361305839178,\n",
       "  1.249422030061329,\n",
       "  1.0342829200638637,\n",
       "  0.8506659836770571,\n",
       "  0.6929746910066693,\n",
       "  0.5564035047639714,\n",
       "  0.43678674446590626,\n",
       "  0.3304839208547028,\n",
       "  0.23425269558165498,\n",
       "  0.14516060007871484,\n",
       "  0.060492446673411665,\n",
       "  0.04632221157025879,\n",
       "  0.03355901968011245,\n",
       "  0.02181799369967055,\n",
       "  0.010745115465463),\n",
       " range(-15, 16))"
      ]
     },
     "execution_count": 108,
     "metadata": {},
     "output_type": "execute_result"
    }
   ],
   "source": [
    "x = [0.84**i for i in range(16)]\n",
    "y = [0.1469,    0.1234,    0.1037,    0.0871,    0.0731,    1.0000,    0.8400,    0.7056,    0.5927,    0.4979,    0.4182,  0.3513,    0.2951,    0.2479,    0.2082,    0.1749]\n",
    "xcorr(x,y)"
   ]
  },
  {
   "cell_type": "code",
   "execution_count": 111,
   "metadata": {
    "collapsed": true
   },
   "outputs": [],
   "source": [
    "def test_xcorr(self):\n",
    "        self.assertXCorrEqual(xcorr([1,2,1], [0,1,0]),\n",
    "                             ((0,1,2,1,0),range(-2,3)))\n",
    "        self.assertXCorrEqual(xcorr([1,2,3,2,1], [0,1,1]),\n",
    "                             ((0,0,1,3,5,5,3,1,0),range(-4,5)))\n",
    "        self.assertXCorrEqual(xcorr([1,2,3,2,1], [1,1,1]),\n",
    "                             ((0,0,1,3,6,7,6,3,1),range(-4,5)))\n",
    "        self.assertXCorrEqual(xcorr([1,1,1], [1,2,3,2,1]),\n",
    "                             ((1,3,6,7,6,3,1,0,0),range(-4,5)))\n",
    "        self.assertXCorrEqual(xcorr([1,2,3,4,5], [3,1,0]),\n",
    "                             ((0,0,0,1,5,9,13,17,15),range(-4,5)))\n",
    "        self.assertXCorrEqual(xcorr([1,2,0,4,5], [3,4]),\n",
    "                             ((0,0,0,4,11,6,16,32,15),range(-4,5)))"
   ]
  },
  {
   "cell_type": "code",
   "execution_count": 112,
   "metadata": {},
   "outputs": [
    {
     "data": {
      "text/plain": [
       "((0, 1, 2, 1, 0), range(-2, 3))"
      ]
     },
     "execution_count": 112,
     "metadata": {},
     "output_type": "execute_result"
    }
   ],
   "source": [
    "xcorr([1,2,1], [0,1,0])\n"
   ]
  },
  {
   "cell_type": "code",
   "execution_count": 113,
   "metadata": {},
   "outputs": [
    {
     "data": {
      "text/plain": [
       "((0, 0, 1, 3, 5, 5, 3, 1, 0), range(-4, 5))"
      ]
     },
     "execution_count": 113,
     "metadata": {},
     "output_type": "execute_result"
    }
   ],
   "source": [
    "\n",
    "xcorr([1,2,3,2,1], [0,1,1])"
   ]
  },
  {
   "cell_type": "code",
   "execution_count": 114,
   "metadata": {},
   "outputs": [
    {
     "data": {
      "text/plain": [
       "((0, 0, 1, 3, 6, 7, 6, 3, 1), range(-4, 5))"
      ]
     },
     "execution_count": 114,
     "metadata": {},
     "output_type": "execute_result"
    }
   ],
   "source": [
    "\n",
    "xcorr([1,2,3,2,1], [1,1,1])"
   ]
  },
  {
   "cell_type": "code",
   "execution_count": 115,
   "metadata": {},
   "outputs": [
    {
     "data": {
      "text/plain": [
       "((1, 3, 6, 7, 6, 3, 1, 0, 0), range(-4, 5))"
      ]
     },
     "execution_count": 115,
     "metadata": {},
     "output_type": "execute_result"
    }
   ],
   "source": [
    "xcorr([1,1,1], [1,2,3,2,1])\n"
   ]
  },
  {
   "cell_type": "code",
   "execution_count": 116,
   "metadata": {},
   "outputs": [
    {
     "data": {
      "text/plain": [
       "((0, 0, 0, 1, 5, 9, 13, 17, 15), range(-4, 5))"
      ]
     },
     "execution_count": 116,
     "metadata": {},
     "output_type": "execute_result"
    }
   ],
   "source": [
    "xcorr([1,2,3,4,5], [3,1,0])\n"
   ]
  },
  {
   "cell_type": "code",
   "execution_count": 117,
   "metadata": {},
   "outputs": [
    {
     "data": {
      "text/plain": [
       "((0, 0, 0, 4, 11, 6, 16, 32, 15), range(-4, 5))"
      ]
     },
     "execution_count": 117,
     "metadata": {},
     "output_type": "execute_result"
    }
   ],
   "source": [
    "xcorr([1,2,0,4,5], [3,4])"
   ]
  },
  {
   "cell_type": "code",
   "execution_count": null,
   "metadata": {},
   "outputs": [],
   "source": []
  },
  {
   "cell_type": "code",
   "execution_count": null,
   "metadata": {
    "collapsed": true
   },
   "outputs": [],
   "source": []
  }
 ],
 "metadata": {
  "kernelspec": {
   "display_name": "Python 3",
   "language": "python",
   "name": "python3"
  },
  "language_info": {
   "codemirror_mode": {
    "name": "ipython",
    "version": 3
   },
   "file_extension": ".py",
   "mimetype": "text/x-python",
   "name": "python",
   "nbconvert_exporter": "python",
   "pygments_lexer": "ipython3",
   "version": "3.6.1"
  }
 },
 "nbformat": 4,
 "nbformat_minor": 2
}
